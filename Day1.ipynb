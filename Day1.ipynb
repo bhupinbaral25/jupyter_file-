{
 "cells": [
  {
   "cell_type": "code",
   "execution_count": 22,
   "id": "7177346f",
   "metadata": {},
   "outputs": [],
   "source": [
    "X = 'Bhupin'\n",
    "y= 5"
   ]
  },
  {
   "cell_type": "code",
   "execution_count": 5,
   "id": "77a3fbfc",
   "metadata": {},
   "outputs": [
    {
     "name": "stdout",
     "output_type": "stream",
     "text": [
      "Bhupin\n"
     ]
    }
   ],
   "source": [
    "print(X)\n"
   ]
  },
  {
   "cell_type": "markdown",
   "id": "64be3f99",
   "metadata": {},
   "source": [
    "# Data Analysis"
   ]
  },
  {
   "cell_type": "markdown",
   "id": "6919ec8a",
   "metadata": {},
   "source": [
    "Here I am going to analyse my data by using model like ............. and i implement machie learning model "
   ]
  },
  {
   "cell_type": "code",
   "execution_count": 6,
   "id": "9b35bb7e",
   "metadata": {},
   "outputs": [],
   "source": [
    "mylist=[4,5,6,7,3,4,5]"
   ]
  },
  {
   "cell_type": "code",
   "execution_count": 8,
   "id": "cfc9aef8",
   "metadata": {},
   "outputs": [],
   "source": [
    "mylist.append(10)"
   ]
  },
  {
   "cell_type": "code",
   "execution_count": 10,
   "id": "f11556a2",
   "metadata": {},
   "outputs": [],
   "source": [
    "mylist.insert(3,11)"
   ]
  },
  {
   "cell_type": "code",
   "execution_count": 14,
   "id": "8dfe3b1e",
   "metadata": {},
   "outputs": [],
   "source": [
    "mylist.insert(5,'bhupin')"
   ]
  },
  {
   "cell_type": "code",
   "execution_count": 15,
   "id": "957f015f",
   "metadata": {},
   "outputs": [
    {
     "data": {
      "text/plain": [
       "[4, 5, 6, 11, 4.5, 'bhupin', 7, 3, 4, 5, 10]"
      ]
     },
     "execution_count": 15,
     "metadata": {},
     "output_type": "execute_result"
    }
   ],
   "source": [
    "mylist"
   ]
  },
  {
   "cell_type": "code",
   "execution_count": 16,
   "id": "c50ae01d",
   "metadata": {},
   "outputs": [],
   "source": [
    "for i in range(20):\n",
    "    mylist.append(i)\n",
    "    "
   ]
  },
  {
   "cell_type": "code",
   "execution_count": 25,
   "id": "b768c957",
   "metadata": {},
   "outputs": [
    {
     "data": {
      "text/plain": [
       "[4,\n",
       " 5,\n",
       " 6,\n",
       " 11,\n",
       " 4.5,\n",
       " 'bhupin',\n",
       " 7,\n",
       " 3,\n",
       " 4,\n",
       " 5,\n",
       " 10,\n",
       " 0,\n",
       " 1,\n",
       " 2,\n",
       " 3,\n",
       " 4,\n",
       " 5,\n",
       " 6,\n",
       " 7,\n",
       " 8,\n",
       " 9,\n",
       " 10,\n",
       " 11,\n",
       " 12,\n",
       " 13,\n",
       " 14,\n",
       " 15,\n",
       " 16,\n",
       " 17,\n",
       " 18,\n",
       " 19]"
      ]
     },
     "execution_count": 25,
     "metadata": {},
     "output_type": "execute_result"
    }
   ],
   "source": [
    "mylist"
   ]
  },
  {
   "cell_type": "code",
   "execution_count": 35,
   "id": "e699b1d3",
   "metadata": {},
   "outputs": [
    {
     "data": {
      "text/plain": [
       "[4,\n",
       " 5,\n",
       " 6,\n",
       " 11,\n",
       " 4.5,\n",
       " 'bhupin',\n",
       " 7,\n",
       " 3,\n",
       " 4,\n",
       " 5,\n",
       " 10,\n",
       " 0,\n",
       " 1,\n",
       " 2,\n",
       " 3,\n",
       " 4,\n",
       " 5,\n",
       " 6,\n",
       " 7,\n",
       " 8,\n",
       " 9,\n",
       " 10,\n",
       " 11,\n",
       " 12,\n",
       " 13,\n",
       " 14,\n",
       " 15,\n",
       " 16,\n",
       " 17,\n",
       " 18,\n",
       " 19]"
      ]
     },
     "execution_count": 35,
     "metadata": {},
     "output_type": "execute_result"
    }
   ],
   "source": [
    "mylist"
   ]
  },
  {
   "cell_type": "code",
   "execution_count": 39,
   "id": "4b2df514",
   "metadata": {},
   "outputs": [],
   "source": [
    "del mylist[5]"
   ]
  },
  {
   "cell_type": "code",
   "execution_count": 40,
   "id": "b2cd638a",
   "metadata": {},
   "outputs": [
    {
     "data": {
      "text/plain": [
       "[4,\n",
       " 5,\n",
       " 6,\n",
       " 11,\n",
       " 4.5,\n",
       " 7,\n",
       " 3,\n",
       " 4,\n",
       " 5,\n",
       " 10,\n",
       " 0,\n",
       " 1,\n",
       " 2,\n",
       " 3,\n",
       " 4,\n",
       " 5,\n",
       " 6,\n",
       " 7,\n",
       " 8,\n",
       " 9,\n",
       " 10,\n",
       " 11,\n",
       " 12,\n",
       " 13,\n",
       " 14,\n",
       " 15,\n",
       " 16,\n",
       " 17,\n",
       " 18,\n",
       " 19]"
      ]
     },
     "execution_count": 40,
     "metadata": {},
     "output_type": "execute_result"
    }
   ],
   "source": [
    "mylist"
   ]
  },
  {
   "cell_type": "code",
   "execution_count": 43,
   "id": "76f1ab24",
   "metadata": {},
   "outputs": [
    {
     "data": {
      "text/plain": [
       "30"
      ]
     },
     "execution_count": 43,
     "metadata": {},
     "output_type": "execute_result"
    }
   ],
   "source": [
    "len(mylist)"
   ]
  },
  {
   "cell_type": "code",
   "execution_count": 47,
   "id": "c4de0669",
   "metadata": {},
   "outputs": [],
   "source": [
    "thislist=[]\n",
    "rajan=[]\n",
    "for i in mylist:\n",
    "    if i==0:\n",
    "        rajan.append(i)\n",
    "    elif i%2==0:\n",
    "        thislist.append(i)\n",
    "    else:\n",
    "        rajan.append(i)"
   ]
  },
  {
   "cell_type": "code",
   "execution_count": 48,
   "id": "ac6d6850",
   "metadata": {},
   "outputs": [
    {
     "name": "stdout",
     "output_type": "stream",
     "text": [
      "[4, 6, 4, 10, 2, 4, 6, 8, 10, 12, 14, 16, 18] [5, 11, 4.5, 7, 3, 5, 0, 1, 3, 5, 7, 9, 11, 13, 15, 17, 19]\n"
     ]
    }
   ],
   "source": [
    "print(thislist,rajan)"
   ]
  },
  {
   "cell_type": "code",
   "execution_count": 57,
   "id": "bc16e6ff",
   "metadata": {},
   "outputs": [],
   "source": [
    "def prime(num):\n",
    "    count=0\n",
    "    for i in range(num):\n",
    "        if num % (i+1) == 0:\n",
    "            count = count+1\n",
    "    if count==2:\n",
    "        return True\n",
    "    else:\n",
    "        return False\n"
   ]
  },
  {
   "cell_type": "code",
   "execution_count": 58,
   "id": "8232ea3f",
   "metadata": {},
   "outputs": [
    {
     "name": "stdout",
     "output_type": "stream",
     "text": [
      "Prime Number\n"
     ]
    }
   ],
   "source": [
    "if  prime(5)==True:\n",
    "    print('Prime Number')"
   ]
  },
  {
   "cell_type": "code",
   "execution_count": 62,
   "id": "4e9c7518",
   "metadata": {},
   "outputs": [],
   "source": [
    "mlist=[]\n",
    "for i in range(100,200):\n",
    "    mlist.append(i)\n",
    " "
   ]
  },
  {
   "cell_type": "code",
   "execution_count": 64,
   "id": "3b60c7a3",
   "metadata": {},
   "outputs": [],
   "source": [
    "primelist=[]\n",
    "nonprimelist=[]\n",
    "for item in mlist:\n",
    "    if  prime(item)==True:\n",
    "        primelist.append(item)\n",
    "    else:\n",
    "        nonprimelist.append(item)"
   ]
  },
  {
   "cell_type": "code",
   "execution_count": 66,
   "id": "236dea0f",
   "metadata": {},
   "outputs": [
    {
     "name": "stdout",
     "output_type": "stream",
     "text": [
      "[101, 103, 107, 109, 113, 127, 131, 137, 139, 149, 151, 157, 163, 167, 173, 179, 181, 191, 193, 197, 199] [100, 102, 104, 105, 106, 108, 110, 111, 112, 114, 115, 116, 117, 118, 119, 120, 121, 122, 123, 124, 125, 126, 128, 129, 130, 132, 133, 134, 135, 136, 138, 140, 141, 142, 143, 144, 145, 146, 147, 148, 150, 152, 153, 154, 155, 156, 158, 159, 160, 161, 162, 164, 165, 166, 168, 169, 170, 171, 172, 174, 175, 176, 177, 178, 180, 182, 183, 184, 185, 186, 187, 188, 189, 190, 192, 194, 195, 196, 198]\n"
     ]
    }
   ],
   "source": [
    "print(primelist,nonprimelist)"
   ]
  },
  {
   "cell_type": "code",
   "execution_count": 1,
   "id": "0c320be5",
   "metadata": {},
   "outputs": [
    {
     "ename": "ModuleNotFoundError",
     "evalue": "No module named 'cv2'",
     "output_type": "error",
     "traceback": [
      "\u001b[0;31m---------------------------------------------------------------------------\u001b[0m",
      "\u001b[0;31mModuleNotFoundError\u001b[0m                       Traceback (most recent call last)",
      "\u001b[0;32m/tmp/ipykernel_3816/571303353.py\u001b[0m in \u001b[0;36m<module>\u001b[0;34m\u001b[0m\n\u001b[0;32m----> 1\u001b[0;31m \u001b[0;32mimport\u001b[0m \u001b[0mcv2\u001b[0m\u001b[0;34m\u001b[0m\u001b[0;34m\u001b[0m\u001b[0m\n\u001b[0m",
      "\u001b[0;31mModuleNotFoundError\u001b[0m: No module named 'cv2'"
     ]
    }
   ],
   "source": [
    "import cv2"
   ]
  },
  {
   "cell_type": "code",
   "execution_count": 2,
   "id": "6c8e7b7d",
   "metadata": {},
   "outputs": [],
   "source": [
    "import OpenSSL"
   ]
  },
  {
   "cell_type": "code",
   "execution_count": null,
   "id": "134216cd",
   "metadata": {},
   "outputs": [],
   "source": []
  }
 ],
 "metadata": {
  "kernelspec": {
   "display_name": "Python 3 (ipykernel)",
   "language": "python",
   "name": "python3"
  },
  "language_info": {
   "codemirror_mode": {
    "name": "ipython",
    "version": 3
   },
   "file_extension": ".py",
   "mimetype": "text/x-python",
   "name": "python",
   "nbconvert_exporter": "python",
   "pygments_lexer": "ipython3",
   "version": "3.8.10"
  }
 },
 "nbformat": 4,
 "nbformat_minor": 5
}
