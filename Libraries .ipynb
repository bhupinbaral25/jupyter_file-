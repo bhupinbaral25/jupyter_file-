{
 "cells": [
  {
   "cell_type": "code",
   "execution_count": 1,
   "id": "8ab0680f",
   "metadata": {},
   "outputs": [],
   "source": [
    "import pandas as pd\n",
    "import numpy as np\n",
    "from pandas.plotting import scatter_matrix\n",
    "import matplotlib.pyplot as plt\n",
    "from sklearn import model_selection\n",
    "from sklearn.metrics import classification_report\n",
    "from sklearn.metrics import confusion_matrix\n",
    "from sklearn.metrics import accuracy_score\n",
    "from sklearn.linear_model import LogisticRegression\n",
    "from sklearn.tree import DecisionTreeClassifier\n",
    "from sklearn.neighbors import KNeighborsClassifier\n",
    "from sklearn.discriminant_analysis import LinearDiscriminantAnalysis\n",
    "from sklearn.naive_bayes import GaussianNB\n",
    "from sklearn.svm import SVC"
   ]
  },
  {
   "cell_type": "code",
   "execution_count": 2,
   "id": "b375000e",
   "metadata": {},
   "outputs": [],
   "source": [
    "#names = ['sepal_length','petal_length']\n",
    "net_data = pd.read_csv(\"majorprojectdata.csv\")"
   ]
  },
  {
   "cell_type": "code",
   "execution_count": 3,
   "id": "d868af14",
   "metadata": {},
   "outputs": [],
   "source": [
    "from sklearn.preprocessing import LabelEncoder\n",
    "le=LabelEncoder()\n",
    "net_data['Soil Type'] =le.fit_transform(net_data['Soil Type'])\n",
    "net_data['Crop Type'] =le.fit_transform(net_data['Crop Type'])\n",
    "features = ['Temparature','Humidity','Moisture','Nitrogen','Potassium', 'Phosphorous','Soil Type','Crop Type']\n",
    "X = net_data[features]\n",
    "Y = net_data['Fertilizer Name']\n",
    "X_train, X_test, y_train, y_test = model_selection.train_test_split(X, Y, test_size=0.25, random_state=3)"
   ]
  },
  {
   "cell_type": "code",
   "execution_count": 4,
   "id": "54577459",
   "metadata": {},
   "outputs": [
    {
     "ename": "NameError",
     "evalue": "name 'df' is not defined",
     "output_type": "error",
     "traceback": [
      "\u001b[1;31m---------------------------------------------------------------------------\u001b[0m",
      "\u001b[1;31mNameError\u001b[0m                                 Traceback (most recent call last)",
      "\u001b[1;32m<ipython-input-4-ea8415b8a3ee>\u001b[0m in \u001b[0;36m<module>\u001b[1;34m\u001b[0m\n\u001b[1;32m----> 1\u001b[1;33m \u001b[0mdf\u001b[0m\u001b[1;33m.\u001b[0m\u001b[0mdescribe\u001b[0m\u001b[1;33m(\u001b[0m\u001b[1;33m)\u001b[0m\u001b[1;33m\u001b[0m\u001b[1;33m\u001b[0m\u001b[0m\n\u001b[0m",
      "\u001b[1;31mNameError\u001b[0m: name 'df' is not defined"
     ]
    }
   ],
   "source": [
    "\n",
    "df.describe()"
   ]
  },
  {
   "cell_type": "code",
   "execution_count": null,
   "id": "27ce75ca",
   "metadata": {},
   "outputs": [],
   "source": [
    " #df.groupby('tempature').size()"
   ]
  },
  {
   "cell_type": "code",
   "execution_count": null,
   "id": "ecab5287",
   "metadata": {},
   "outputs": [],
   "source": [
    "#Create Univariate plot and multivariate plot \n",
    "df.plot(kind='box', subplots = True, layout=(6,6), sharex = False, sharey = False)\n",
    "plt.show()"
   ]
  },
  {
   "cell_type": "code",
   "execution_count": null,
   "id": "a3eb18db",
   "metadata": {},
   "outputs": [],
   "source": [
    "df.hist()\n",
    "plt.show()"
   ]
  },
  {
   "cell_type": "code",
   "execution_count": null,
   "id": "7cb9a8e9",
   "metadata": {},
   "outputs": [],
   "source": [
    "scatter_matrix(df)\n",
    "plt.show()"
   ]
  },
  {
   "cell_type": "code",
   "execution_count": null,
   "id": "c8d151db",
   "metadata": {},
   "outputs": [],
   "source": [
    " #Hyper Parameter Tunning \n",
    "    "
   ]
  },
  {
   "cell_type": "code",
   "execution_count": null,
   "id": "3296a004",
   "metadata": {},
   "outputs": [],
   "source": [
    "models =[]\n",
    "models.append(('LR',LogisticRegression()))\n",
    "models.append(('LDR',LinearDiscriminantAnalysis()))\n",
    "models.append(('KNN',KNeighborsClassifier()))\n",
    "models.append(('CART',DecisionTreeClassifier()))\n",
    "models.append(('NB',GaussianNB()))\n",
    "models.append(('SVM',SVC()))\n",
    "#evaluate each model in turn \n",
    "results = []\n",
    "names = []\n",
    "print(models)\n",
    "for name,model in models:\n",
    "    kfold = model_selection.KFold(n_splits=10, shuffle=False, random_state=None)\n",
    "    cv_results = model_selection.cross_val_score(model, X_train, y_train, cv = kfold, scoring = 'accuracy')\n",
    "    results.append(cv_results)\n",
    "    names.append(name)\n",
    "    msg = f\"{name}: accuracy = {(np.mean(cv_results)):0.2f}% -- and --  standard deviation = {cv_results.std():0.3f}\"\n",
    "    print(msg)"
   ]
  },
  {
   "cell_type": "code",
   "execution_count": null,
   "id": "5ddbc2ee",
   "metadata": {},
   "outputs": [],
   "source": [
    "#compare Algorithms \n",
    "\n",
    "fig=plt.figure()\n",
    "fig.suptitle('  Algorithm Comparision ')\n",
    "ax = fig.add_subplot(111)\n",
    "plt.boxplot(results)\n",
    "ax.set_xticklabels(names)\n",
    "plt.show()"
   ]
  },
  {
   "cell_type": "markdown",
   "id": "78d39b74",
   "metadata": {},
   "source": [
    "# Data Wrangling"
   ]
  },
  {
   "cell_type": "raw",
   "id": "d52471a3",
   "metadata": {},
   "source": [
    "data.isnull() #return boolean values"
   ]
  },
  {
   "cell_type": "raw",
   "id": "580fbe7b",
   "metadata": {},
   "source": [
    "data.isnull().sum()"
   ]
  },
  {
   "cell_type": "raw",
   "id": "4e60b581",
   "metadata": {},
   "source": [
    "sns.heatmap(data.isnull(),yticklables==False,cmap='viridis')"
   ]
  },
  {
   "cell_type": "raw",
   "id": "dc14a22d",
   "metadata": {},
   "source": [
    "sns.boxplot(x='column_name',y='column_name',data=data_sets)"
   ]
  },
  {
   "cell_type": "raw",
   "id": "11f53c40",
   "metadata": {},
   "source": [
    "drop data\n",
    "data.drop('column_name',axis=1,inplace=True)"
   ]
  },
  {
   "cell_type": "code",
   "execution_count": null,
   "id": "ef36360e",
   "metadata": {},
   "outputs": [],
   "source": []
  }
 ],
 "metadata": {
  "kernelspec": {
   "display_name": "Python 3",
   "language": "python",
   "name": "python3"
  },
  "language_info": {
   "codemirror_mode": {
    "name": "ipython",
    "version": 3
   },
   "file_extension": ".py",
   "mimetype": "text/x-python",
   "name": "python",
   "nbconvert_exporter": "python",
   "pygments_lexer": "ipython3",
   "version": "3.8.8"
  }
 },
 "nbformat": 4,
 "nbformat_minor": 5
}
