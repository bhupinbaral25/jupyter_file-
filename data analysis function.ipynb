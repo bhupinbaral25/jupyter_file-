{
 "cells": [
  {
   "cell_type": "code",
   "execution_count": 1,
   "id": "4ed0fc2d",
   "metadata": {},
   "outputs": [],
   "source": [
    "def dataanalysis(data,features,target):\n",
    "    import matplotlib.pyplot as plt\n",
    "    data.hist(bins=50, figsize=(20,15))\n",
    "    train_set,test_set = train_test_split(data,test_size=0.2,random_state=42)\n",
    "    from sklearn.model_selection import StratifiedShuffleSplit\n",
    "    split = StratifiedShuffleSplit(n_splits=1, test_size=0.2,random_state =42)\n",
    "    for train_index,test_index in split.split(data,data[features]):\n",
    "        strat_train_set = housing.loc[train_index]\n",
    "        strat_test_set = housing.loc[test_index]\n",
    "    scatter_matrix(data[features], figsize=(12,8))\n",
    "    corr_matrix= data.corr()\n",
    "    corr_matrix[target].sort_values(ascending=False)\n",
    "    "
   ]
  },
  {
   "cell_type": "code",
   "execution_count": null,
   "id": "186fe9af",
   "metadata": {},
   "outputs": [],
   "source": []
  }
 ],
 "metadata": {
  "kernelspec": {
   "display_name": "Python 3",
   "language": "python",
   "name": "python3"
  },
  "language_info": {
   "codemirror_mode": {
    "name": "ipython",
    "version": 3
   },
   "file_extension": ".py",
   "mimetype": "text/x-python",
   "name": "python",
   "nbconvert_exporter": "python",
   "pygments_lexer": "ipython3",
   "version": "3.8.8"
  }
 },
 "nbformat": 4,
 "nbformat_minor": 5
}
